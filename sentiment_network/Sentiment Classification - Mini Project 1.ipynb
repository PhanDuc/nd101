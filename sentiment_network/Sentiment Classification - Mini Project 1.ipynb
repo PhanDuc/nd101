{
 "cells": [
  {
   "cell_type": "markdown",
   "metadata": {},
   "source": [
    "# Sentiment Classification & How To \"Frame Problems\" for a Neural Network\n",
    "\n",
    "by Andrew Trask\n",
    "\n",
    "- **Twitter**: @iamtrask\n",
    "- **Blog**: http://iamtrask.github.io"
   ]
  },
  {
   "cell_type": "markdown",
   "metadata": {},
   "source": [
    "### What You Should Already Know\n",
    "\n",
    "- neural networks, forward and back-propagation\n",
    "- stochastic gradient descent\n",
    "- mean squared error\n",
    "- and train/test splits\n",
    "\n",
    "### Where to Get Help if You Need it\n",
    "- Re-watch previous Udacity Lectures\n",
    "- Leverage the recommended Course Reading Material - [Grokking Deep Learning](https://www.manning.com/books/grokking-deep-learning) (40% Off: **traskud17**)\n",
    "- Shoot me a tweet @iamtrask\n",
    "\n",
    "\n",
    "### Tutorial Outline:\n",
    "\n",
    "- Intro: The Importance of \"Framing a Problem\"\n",
    "\n",
    "\n",
    "- Curate a Dataset\n",
    "- Developing a \"Predictive Theory\"\n",
    "- **PROJECT 1**: Quick Theory Validation\n",
    "\n",
    "\n",
    "- Transforming Text to Numbers\n",
    "- **PROJECT 2**: Creating the Input/Output Data\n",
    "\n",
    "\n",
    "- Putting it all together in a Neural Network\n",
    "- **PROJECT 3**: Building our Neural Network\n",
    "\n",
    "\n",
    "- Understanding Neural Noise\n",
    "- **PROJECT 4**: Making Learning Faster by Reducing Noise\n",
    "\n",
    "\n",
    "- Analyzing Inefficiencies in our Network\n",
    "- **PROJECT 5**: Making our Network Train and Run Faster\n",
    "\n",
    "\n",
    "- Further Noise Reduction\n",
    "- **PROJECT 6**: Reducing Noise by Strategically Reducing the Vocabulary\n",
    "\n",
    "\n",
    "- Analysis: What's going on in the weights?"
   ]
  },
  {
   "cell_type": "markdown",
   "metadata": {
    "nbpresent": {
     "id": "56bb3cba-260c-4ebe-9ed6-b995b4c72aa3"
    }
   },
   "source": [
    "# Lesson: Curate a Dataset"
   ]
  },
  {
   "cell_type": "code",
   "execution_count": 14,
   "metadata": {
    "collapsed": false,
    "nbpresent": {
     "id": "eba2b193-0419-431e-8db9-60f34dd3fe83"
    }
   },
   "outputs": [],
   "source": [
    "def pretty_print_review_and_label(i):\n",
    "    print(labels[i] + \"\\t: \" + reviews[i][:70] + \"...\")\n",
    "\n",
    "g = open('reviews.txt','r') # What we know!\n",
    "reviews = list(map(lambda x:x[:-1],g.readlines()))\n",
    "g.close()\n",
    "\n",
    "g = open('labels.txt','r') # What we WANT to know!\n",
    "labels = list(map(lambda x:x[:-1].upper(),g.readlines()))\n",
    "g.close()"
   ]
  },
  {
   "cell_type": "code",
   "execution_count": 2,
   "metadata": {
    "collapsed": false
   },
   "outputs": [
    {
     "data": {
      "text/plain": [
       "25000"
      ]
     },
     "execution_count": 2,
     "metadata": {},
     "output_type": "execute_result"
    }
   ],
   "source": [
    "len(reviews)"
   ]
  },
  {
   "cell_type": "code",
   "execution_count": 5,
   "metadata": {
    "collapsed": false,
    "nbpresent": {
     "id": "bb95574b-21a0-4213-ae50-34363cf4f87f"
    }
   },
   "outputs": [
    {
     "data": {
      "text/plain": [
       "'story of a man who has unnatural feelings for a pig . starts out with a opening scene that is a terrific example of absurd comedy . a formal orchestra audience is turned into an insane  violent mob by the crazy chantings of it  s singers . unfortunately it stays absurd the whole time with no general narrative eventually making it just too off putting . even those from the era should be turned off . the cryptic dialogue would make shakespeare seem easy to a third grader . on a technical level it  s better than you might think with some good cinematography by future great vilmos zsigmond . future stars sally kirkland and frederic forrest can be seen briefly .  '"
      ]
     },
     "execution_count": 5,
     "metadata": {},
     "output_type": "execute_result"
    }
   ],
   "source": [
    "reviews[1]"
   ]
  },
  {
   "cell_type": "code",
   "execution_count": 6,
   "metadata": {
    "collapsed": false,
    "nbpresent": {
     "id": "e0408810-c424-4ed4-afb9-1735e9ddbd0a"
    }
   },
   "outputs": [
    {
     "data": {
      "text/plain": [
       "'NEGATIVE'"
      ]
     },
     "execution_count": 6,
     "metadata": {},
     "output_type": "execute_result"
    }
   ],
   "source": [
    "labels[1]"
   ]
  },
  {
   "cell_type": "markdown",
   "metadata": {},
   "source": [
    "# Lesson: Develop a Predictive Theory"
   ]
  },
  {
   "cell_type": "code",
   "execution_count": 15,
   "metadata": {
    "collapsed": false,
    "nbpresent": {
     "id": "e67a709f-234f-4493-bae6-4fb192141ee0"
    }
   },
   "outputs": [
    {
     "name": "stdout",
     "output_type": "stream",
     "text": [
      "labels.txt \t : \t reviews.txt\n",
      "\n",
      "NEGATIVE\t: this movie is terrible but it has some good effects .  ...\n",
      "POSITIVE\t: adrian pasdar is excellent is this film . he makes a fascinating woman...\n",
      "NEGATIVE\t: comment this movie is impossible . is terrible  very improbable  bad i...\n",
      "POSITIVE\t: excellent episode movie ala pulp fiction .  days   suicides . it doesn...\n",
      "NEGATIVE\t: if you haven  t seen this  it  s terrible . it is pure trash . i saw t...\n",
      "POSITIVE\t: this schiffer guy is a real genius  the movie is of excellent quality ...\n"
     ]
    }
   ],
   "source": [
    "print(\"labels.txt \\t : \\t reviews.txt\\n\")\n",
    "pretty_print_review_and_label(2137)\n",
    "pretty_print_review_and_label(12816)\n",
    "pretty_print_review_and_label(6267)\n",
    "pretty_print_review_and_label(21934)\n",
    "pretty_print_review_and_label(5297)\n",
    "pretty_print_review_and_label(4998)"
   ]
  },
  {
   "cell_type": "markdown",
   "metadata": {},
   "source": [
    "Counting all the words:"
   ]
  },
  {
   "cell_type": "code",
   "execution_count": 126,
   "metadata": {
    "collapsed": false
   },
   "outputs": [],
   "source": [
    "from collections import Counter\n",
    "import numpy as np\n",
    "\n",
    "c = Counter()\n",
    "\n",
    "for review in reviews:\n",
    "    for word in str(review).split():\n",
    "        c[word] += 1"
   ]
  },
  {
   "cell_type": "markdown",
   "metadata": {},
   "source": [
    "the most common words have no predictive power:"
   ]
  },
  {
   "cell_type": "code",
   "execution_count": 125,
   "metadata": {
    "collapsed": false
   },
   "outputs": [
    {
     "data": {
      "text/plain": [
       "[('the', 336713),\n",
       " ('.', 327192),\n",
       " ('and', 164107),\n",
       " ('a', 163009),\n",
       " ('of', 145864),\n",
       " ('to', 135720),\n",
       " ('is', 107328),\n",
       " ('br', 101872),\n",
       " ('it', 96352),\n",
       " ('in', 93968),\n",
       " ('i', 87623),\n",
       " ('this', 76000),\n",
       " ('that', 73245),\n",
       " ('s', 65361),\n",
       " ('was', 48208),\n",
       " ('as', 46933),\n",
       " ('for', 44343),\n",
       " ('with', 44125),\n",
       " ('movie', 44039),\n",
       " ('but', 42603),\n",
       " ('film', 40155),\n",
       " ('you', 34230),\n",
       " ('on', 34200),\n",
       " ('t', 34081)]"
      ]
     },
     "execution_count": 125,
     "metadata": {},
     "output_type": "execute_result"
    }
   ],
   "source": [
    "common_words = c.most_common(24)\n",
    "common_words"
   ]
  },
  {
   "cell_type": "code",
   "execution_count": 88,
   "metadata": {
    "collapsed": false
   },
   "outputs": [
    {
     "data": {
      "text/plain": [
       "[('one', 26789),\n",
       " ('all', 23978),\n",
       " ('at', 23513),\n",
       " ('they', 22906),\n",
       " ('by', 22546),\n",
       " ('an', 21560),\n",
       " ('who', 21433),\n",
       " ('so', 20617),\n",
       " ('from', 20498),\n",
       " ('like', 20276)]"
      ]
     },
     "execution_count": 88,
     "metadata": {},
     "output_type": "execute_result"
    }
   ],
   "source": [
    "for word in common_words:\n",
    "    del c[word[0]]\n",
    "c.most_common(10)"
   ]
  },
  {
   "cell_type": "markdown",
   "metadata": {},
   "source": [
    "Hmmm.. it would be more useful to have two counters, one for negative reviews and the other for positive ones."
   ]
  },
  {
   "cell_type": "code",
   "execution_count": 127,
   "metadata": {
    "collapsed": true
   },
   "outputs": [],
   "source": [
    "negative_words = Counter()\n",
    "positive_words = Counter()\n",
    "total_words = Counter()\n",
    "\n",
    "for i, review in enumerate(reviews):\n",
    "    for word in str(review).split():\n",
    "        if labels[i] == \"NEGATIVE\":\n",
    "            negative_words[word] += 1\n",
    "        else:\n",
    "            positive_words[word] += 1\n",
    "        total_words[word] += 1"
   ]
  },
  {
   "cell_type": "code",
   "execution_count": 172,
   "metadata": {
    "collapsed": false
   },
   "outputs": [
    {
     "data": {
      "text/plain": [
       "[('superb', 5.524271844660194),\n",
       " ('wonderful', 4.780487804878049),\n",
       " ('fantastic', 4.503448275862069),\n",
       " ('excellent', 4.326478149100257),\n",
       " ('amazing', 4.022813688212928),\n",
       " ('powerful', 3.669172932330827),\n",
       " ('favorite', 3.5498154981549814),\n",
       " ('perfect', 3.4789915966386555),\n",
       " ('brilliant', 3.4169741697416973),\n",
       " ('perfectly', 3.310810810810811),\n",
       " ('loved', 3.1783625730994154),\n",
       " ('highly', 3.133093525179856),\n",
       " ('tony', 3.125984251968504),\n",
       " ('today', 3.0193548387096776),\n",
       " ('unique', 2.96875),\n",
       " ('beauty', 2.8588235294117648),\n",
       " ('greatest', 2.786802030456853),\n",
       " ('portrayal', 2.77037037037037),\n",
       " ('incredible', 2.7350993377483444),\n",
       " ('sweet', 2.6903225806451614)]"
      ]
     },
     "execution_count": 172,
     "metadata": {},
     "output_type": "execute_result"
    }
   ],
   "source": [
    "pos_neg_ratios = Counter()\n",
    "neg_pos_ratios = Counter()\n",
    "for word, cnt in total_words.most_common():\n",
    "    if cnt > 500:\n",
    "        pos_neg_ratios[word] += positive_words[word] / (negative_words[word] + 1.0)\n",
    "        neg_pos_ratios[word] += negative_words[word] / (positive_words[word] + 1.0)\n",
    "        \n",
    "pos_neg_ratios.most_common(20)"
   ]
  },
  {
   "cell_type": "code",
   "execution_count": 171,
   "metadata": {
    "collapsed": false
   },
   "outputs": [
    {
     "data": {
      "text/plain": [
       "[('waste', 13.58),\n",
       " ('worst', 9.802371541501977),\n",
       " ('awful', 9.21301775147929),\n",
       " ('horrible', 6.705128205128205),\n",
       " ('crap', 6.172413793103448),\n",
       " ('worse', 5.65158371040724),\n",
       " ('terrible', 5.608870967741935),\n",
       " ('stupid', 5.211678832116788),\n",
       " ('boring', 4.425149700598802),\n",
       " ('bad', 3.8789308176100628),\n",
       " ('supposed', 3.583081570996979),\n",
       " ('poor', 3.551558752997602),\n",
       " ('oh', 2.9617486338797816),\n",
       " ('save', 2.683453237410072),\n",
       " ('gore', 2.637630662020906),\n",
       " ('minutes', 2.5676328502415457),\n",
       " ('decent', 2.376093294460641),\n",
       " ('ok', 2.363036303630363),\n",
       " ('attempt', 2.3259493670886076),\n",
       " ('nothing', 2.298232129131437)]"
      ]
     },
     "execution_count": 171,
     "metadata": {},
     "output_type": "execute_result"
    }
   ],
   "source": [
    "neg_pos_ratios.most_common(20)"
   ]
  },
  {
   "cell_type": "code",
   "execution_count": null,
   "metadata": {
    "collapsed": true
   },
   "outputs": [],
   "source": []
  }
 ],
 "metadata": {
  "anaconda-cloud": {},
  "kernelspec": {
   "display_name": "Python 3",
   "language": "python",
   "name": "python3"
  },
  "language_info": {
   "codemirror_mode": {
    "name": "ipython",
    "version": 3
   },
   "file_extension": ".py",
   "mimetype": "text/x-python",
   "name": "python",
   "nbconvert_exporter": "python",
   "pygments_lexer": "ipython3",
   "version": "3.6.0"
  }
 },
 "nbformat": 4,
 "nbformat_minor": 1
}
